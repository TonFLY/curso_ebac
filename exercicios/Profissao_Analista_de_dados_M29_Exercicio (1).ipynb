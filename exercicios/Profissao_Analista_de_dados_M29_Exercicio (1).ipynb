{
  "nbformat": 4,
  "nbformat_minor": 0,
  "metadata": {
    "colab": {
      "provenance": []
    },
    "kernelspec": {
      "name": "python3",
      "display_name": "Python 3"
    }
  },
  "cells": [
    {
      "cell_type": "markdown",
      "metadata": {
        "id": "KJqp9AANOCtf"
      },
      "source": [
        "<img src=\"https://raw.githubusercontent.com/andre-marcos-perez/ebac-course-utils/main/media/logo/newebac_logo_black_half.png\" alt=\"ebac-logo\">\n",
        "\n",
        "---\n",
        "\n",
        "# **Módulo** | SQL: Base de dados & Linguagem SQL\n",
        "Caderno de **Exercícios**<br>\n",
        "Professor [André Perez](https://www.linkedin.com/in/andremarcosperez/)\n",
        "\n",
        "---"
      ]
    },
    {
      "cell_type": "markdown",
      "metadata": {
        "id": "d9jDtUbDOE1-"
      },
      "source": [
        "# **Tópicos**\n",
        "\n",
        "<ol type=\"1\">\n",
        "  <li>Introdução ao Google Colab;</li>\n",
        "  <li>Bases de dados relacionais;</li>\n",
        "  <li>Introdução ao SQL;</li>\n",
        "  <li>Introdução ao AWS Console;</li>\n",
        "  <li>Armazenamento de dados com AWS S3;</li>\n",
        "  <li>Computação em SQL com AWS Athena.</li>\n",
        "</ol>"
      ]
    },
    {
      "cell_type": "markdown",
      "metadata": {
        "id": "SmoHgt-lwkpD"
      },
      "source": [
        "---"
      ]
    },
    {
      "cell_type": "markdown",
      "metadata": {
        "id": "DIlQOznoTPQF"
      },
      "source": [
        "# **Instruções**\n",
        "\n",
        "Neste exercícios, vamos configurar e testar os serviços AWS S3 e AWS Athena da plataforma de computação em nuvem da AWS para utilizarmos durante todo o curso:\n",
        "\n",
        "Na etapa de **configuração**, você deve seguir o passo a passo de configuração do ambiente, não há entregáveis.\n",
        "\n",
        "Na etapa de **atividades**, você deve:\n",
        "\n",
        " 1. Eexecutar a consulta SQL fornecida;\n",
        " 2. Exportar os resultados em um arquivo csv para sua máquina;\n",
        " 3. Renomear o arquivo como **query_\\<numero-da-query>.csv**;\n",
        " 4. Enviar para a avaliação do tutor na plataforma da EBAC.\n",
        "\n",
        "> **Atenção**: Substitua o **\\<numero-da-query>** numero da consulta, exemplo: **query_1.csv**."
      ]
    },
    {
      "cell_type": "markdown",
      "metadata": {
        "id": "vvlBORqbTPQp"
      },
      "source": [
        "---"
      ]
    },
    {
      "cell_type": "markdown",
      "metadata": {
        "id": "GABI6OW8OfQ2"
      },
      "source": [
        "# **Configuração**"
      ]
    },
    {
      "cell_type": "markdown",
      "metadata": {
        "id": "muD1vxozykSC"
      },
      "source": [
        "## 1\\. Criando a sua conta da AWS"
      ]
    },
    {
      "cell_type": "markdown",
      "metadata": {
        "id": "ahrFfCuBxJKs"
      },
      "source": [
        " Acesse a plataforma da AWS neste [link](https://portal.aws.amazon.com/), clique no botão **Criar uma nova conta da AWS** e siga as etapas para a criação da conta. Com a conta pronta, acesse o console da AWS usando as suas novas credenciais neste [link](https://portal.aws.amazon.com/).\n",
        "\n",
        "\n",
        "> **Atenção**: Lembre-se que você precisa de um cartão de crédito para criar a sua conta."
      ]
    },
    {
      "cell_type": "markdown",
      "metadata": {
        "id": "jdIScjXVWoHU"
      },
      "source": [
        "## 2\\. Configurando o AWS S3"
      ]
    },
    {
      "cell_type": "markdown",
      "metadata": {
        "id": "OCY24c61WoHW"
      },
      "source": [
        "1. Acesse AWS S3;\n",
        "2. Crie dois buckets:\n",
        " *   **ebac-\\<seu-nome>-modulo_1**: para os dados;\n",
        " *   **ebac-\\<seu-nome>-query-results**: para o resultado das consultas do AWS Athena;\n",
        "3. Faço o upload do arquivo **credito-aula.csv** no bucket de dados.\n",
        "\n",
        "> **Atenção**: Substitua o **\\<seu-nome>** pelo seu primeiro nome, exemplo: **ebac-andreperez-modulo_1**.\n",
        "\n",
        "> **Atenção**: Caso o bucket já exista, sinta-se a vontade para escolher o nome que desejar.\n",
        "\n",
        " > **Atenção**: O arquivo **credito-aula.csv** está na plataforma da EBAC."
      ]
    },
    {
      "cell_type": "markdown",
      "metadata": {
        "id": "lnCGnQ8PWoHX"
      },
      "source": [
        "## 2\\. Configurando o AWS Athena"
      ]
    },
    {
      "cell_type": "markdown",
      "metadata": {
        "id": "GXt0Ud01WoHX"
      },
      "source": [
        "1. Acesse AWS Athena;\n",
        "2. Configure o local de armazenamento das consultas:\n",
        "\n",
        " * Clique no botão **settings**;\n",
        " * Preencha o campo **Query result location** com o nome do bucket (**ebac-\\<seu-nome>-query-results**) criado na etapa anterior;\n",
        " * Clique em salvar."
      ]
    },
    {
      "cell_type": "markdown",
      "metadata": {
        "id": "k4HJwfbQcEQw"
      },
      "source": [
        "# Atividades"
      ]
    },
    {
      "cell_type": "markdown",
      "metadata": {
        "id": "Lyqe05QXcERP"
      },
      "source": [
        "## **1 Criação da tabela de clientes**"
      ]
    },
    {
      "cell_type": "markdown",
      "metadata": {
        "id": "Rq7i2Tb4cERP"
      },
      "source": [
        "No console do AWS Athena, execute a seguinte query:\n",
        "\n",
        "```sql\n",
        "CREATE EXTERNAL TABLE clientes(\n",
        "  id BIGINT,\n",
        "  idade BIGINT,\n",
        "  sexo STRING,\n",
        "  dependentes BIGINT,\n",
        "  escolaridade STRING,\n",
        "  tipo_cartao STRING,\n",
        "  limite_credito DOUBLE,\n",
        "  valor_transacoes_12m DOUBLE,\n",
        "  qtd_transacoes_12m BIGINT)\n",
        "ROW FORMAT SERDE 'org.apache.hadoop.hive.serde2.OpenCSVSerde'\n",
        "WITH SERDEPROPERTIES ('separatorChar' = ',', 'quoteChar' = '\"', 'escapeChar' = '\\\\')\n",
        "STORED AS TEXTFILE\n",
        "LOCATION 's3://ebac-<seu-nome>-modulo_1/'\n",
        "```\n",
        "\n",
        "No painel de resultados, você deve encontrar o seguinte resultado.\n",
        "\n",
        "```\n",
        "Query successful.\n",
        "```\n",
        "\n",
        "\n",
        "> **Atenção**: No campo LOCATION, substitua o **\\<seu-nome>** pelo seu primeiro nome, exemplo: **ebac-andreperez-modulo_1**.\n",
        "\n",
        "> **Atenção**: Nesta atividade, você não precisa exportar os resultados."
      ]
    },
    {
      "cell_type": "markdown",
      "metadata": {
        "id": "0cbohKQegVk7"
      },
      "source": [
        "## **2. Explorando os dados da tabela de clientes**"
      ]
    },
    {
      "cell_type": "markdown",
      "metadata": {
        "id": "0Airo3E0h5Ik"
      },
      "source": [
        "### **2.1. Query 1**"
      ]
    },
    {
      "cell_type": "markdown",
      "metadata": {
        "id": "2m92meC8gVk9"
      },
      "source": [
        "No console do AWS Athena, execute a seguinte query:\n",
        "\n",
        "```sql\n",
        "SELECT * FROM clientes;\n",
        "```\n",
        "\n",
        "No painel de resultados você deve encontrar o seguinte resultado.\n",
        "\n",
        "| id        | idade | sexo | dependentes | escolaridade | tipo_cartao | limite_credito | valor_transacoes_12m | qtd_transacoes_12m |\n",
        "|-----------|-------|------|---|--------------|-|----------------|----------|----|\n",
        "| 768805383 | 45    | M    | 3 | ensino medio | blue | 12.691,51      | 1.144,90 | 42 |\n",
        "| 818770008 | 49    | F    | 5 | mestrado     | blue | 8.256,96      | 1.291,45 | 33 |\n",
        "| 713982108 | 51    | M    | 3 | mestrado     | blue | 3.418,56      | 1.887,72 | 20 |\n",
        "\n",
        "<br>\n",
        "\n",
        "> **Atenção**: Extraia os resultados para o arquivo CSV através do botão de download e renomei-o com o número da query. Voce deve envia-lo para os tutores de EBAC."
      ]
    },
    {
      "cell_type": "markdown",
      "metadata": {
        "id": "N-lRqaLXiL9i"
      },
      "source": [
        "### **2.2. Query 2**"
      ]
    },
    {
      "cell_type": "markdown",
      "metadata": {
        "id": "j_WeV8RliL9j"
      },
      "source": [
        "No console do AWS Athena, execute a seguinte query:\n",
        "\n",
        "```sql\n",
        "SELECT id, idade, limite_credito FROM clientes WHERE sexo = 'M' ORDER BY idade DESC;\n",
        "```\n",
        "\n",
        "No painel de resultados você deve encontrar o seguinte resultado.\n",
        "\n",
        "| id        | idade | limite_credito |\n",
        "|-----------|-------|----------------|\n",
        "| 713982108 | 51    |   3418.56      |\n",
        "| 768805383 | 45    |  12691.51      |\n",
        "\n",
        "<br>\n",
        "\n",
        "> **Atenção**: Extraia os resultados para o arquivo CSV através do botão de download e renomei-o com o número da query. Voce deve envia-lo para os tutores de EBAC."
      ]
    },
    {
      "cell_type": "markdown",
      "metadata": {
        "id": "dnQoRZCGiMQH"
      },
      "source": [
        "### **2.3. Query 3**"
      ]
    },
    {
      "cell_type": "markdown",
      "metadata": {
        "id": "SyLk8zbaiMQI"
      },
      "source": [
        "No console do AWS Athena, execute a seguinte query:\n",
        "\n",
        "```sql\n",
        "SELECT sexo, AVG(idade) AS \"media_idade_por_sexo\" FROM clientes GROUP BY sexo;\n",
        "```\n",
        "\n",
        "No painel de resultados você deve encontrar o seguinte resultado.\n",
        "\n",
        "| sexo | media_idade_por_sexo |\n",
        "|------|----------------------|\n",
        "| F    | 49                   |\n",
        "| M    | 48                   |\n",
        "\n",
        "<br>\n",
        "\n",
        "> **Atenção**: Extraia os resultados para o arquivo CSV através do botão de download e renomei-o com o número da query. Voce deve envia-lo para os tutores de EBAC."
      ]
    },
    {
      "cell_type": "markdown",
      "source": [
        "### **2.4. Resultado**"
      ],
      "metadata": {
        "id": "4CQrT9yGKXDe"
      }
    },
    {
      "cell_type": "code",
      "source": [
        "!pip install wget"
      ],
      "metadata": {
        "colab": {
          "base_uri": "https://localhost:8080/"
        },
        "id": "KieTkhx6LHTo",
        "outputId": "5415617a-4195-42fa-ba4c-cc73b1488b34"
      },
      "execution_count": 2,
      "outputs": [
        {
          "output_type": "stream",
          "name": "stdout",
          "text": [
            "Collecting wget\n",
            "  Downloading wget-3.2.zip (10 kB)\n",
            "  Preparing metadata (setup.py) ... \u001b[?25l\u001b[?25hdone\n",
            "Building wheels for collected packages: wget\n",
            "  Building wheel for wget (setup.py) ... \u001b[?25l\u001b[?25hdone\n",
            "  Created wheel for wget: filename=wget-3.2-py3-none-any.whl size=9656 sha256=5a2c970b48b6bc4bcb4a05078887ac112795a6effaf418ce2fe89eff14eb7181\n",
            "  Stored in directory: /root/.cache/pip/wheels/8b/f1/7f/5c94f0a7a505ca1c81cd1d9208ae2064675d97582078e6c769\n",
            "Successfully built wget\n",
            "Installing collected packages: wget\n",
            "Successfully installed wget-3.2\n"
          ]
        }
      ]
    },
    {
      "cell_type": "code",
      "source": [
        "import wget"
      ],
      "metadata": {
        "id": "U-ReK_MlLJYY"
      },
      "execution_count": 3,
      "outputs": []
    },
    {
      "cell_type": "code",
      "source": [
        "query1 = \"https://download1584.mediafire.com/3kgfeo0hk4qgmgJAhgmOzPwY-9BxZEX_l5JD9RKXs-m51A8h2ksMAwE8-mdVCbmQB9JRe_pci-ZBgxVVhrFTfv5kpzmNb8afz-zlv3MfrEGMJBmkSKMmmWtH8XL6yDLWZRLHYFPmMM9LMFilwqqCrcwjAqvMxIPWoy3Db04tneuPWLOZ/y9qvxblybdh2jls/query1.csv\"\n",
        "query2 = \"https://download1582.mediafire.com/tf2rilgs1kxgqpmaBrnii4KhVNe_PT7ujtYLmsWp2DSnB67tiM04JVZQxepJp6LjJbb8HyNAEJIRM_IK2VO6WGAyyWx4r5EGAi1bcDhQRO_kPpbTXM2Uk5ZS2CSVN2L4Ek6nGY6_dGcyb2I2MQWhajRt-eHjqGpUBS4jU1_zsAFfHihz/lff206h48hmfb0k/query2.csv\"\n",
        "query3 = \"https://download1510.mediafire.com/pft3d82ripjg30YoIU0Y8wkK-1_3sMPLP9GxJUAqutRzx0PFj86ZG79QdCsHbhL3o9lYOEKJbZLq0plLtfFkTf211J69lEMe-Xs8QqLOCzFxLAzJ5IijRAYXPEToxwbaQWdQ4yXN0xZhCP3o66wGR7-BDfCf_-UCVaAXNQ56F5ii9izL/4upv5txp8v3i222/query3.csv\""
      ],
      "metadata": {
        "id": "mYYB80oALVpA"
      },
      "execution_count": 6,
      "outputs": []
    },
    {
      "cell_type": "code",
      "source": [
        "wget.download(query1, \"query1.csv\")\n",
        "wget.download(query2, \"query2.csv\")\n",
        "wget.download(query3, \"query3.csv\")"
      ],
      "metadata": {
        "colab": {
          "base_uri": "https://localhost:8080/",
          "height": 35
        },
        "id": "BV0N_mMyLjSZ",
        "outputId": "bb5b42de-e673-42e8-8dea-56ddbe8c4536"
      },
      "execution_count": 7,
      "outputs": [
        {
          "output_type": "execute_result",
          "data": {
            "text/plain": [
              "'query3.csv'"
            ],
            "application/vnd.google.colaboratory.intrinsic+json": {
              "type": "string"
            }
          },
          "metadata": {},
          "execution_count": 7
        }
      ]
    }
  ]
}