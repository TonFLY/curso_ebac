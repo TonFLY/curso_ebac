{
  "nbformat": 4,
  "nbformat_minor": 0,
  "metadata": {
    "colab": {
      "provenance": []
    },
    "kernelspec": {
      "name": "python3",
      "display_name": "Python 3"
    }
  },
  "cells": [
    {
      "cell_type": "markdown",
      "metadata": {
        "id": "KJqp9AANOCtf"
      },
      "source": [
        "<img src=\"https://raw.githubusercontent.com/andre-marcos-perez/ebac-course-utils/main/media/logo/newebac_logo_black_half.png\" alt=\"ebac-logo\">\n",
        "\n",
        "---\n",
        "\n",
        "# **Módulo** | SQL Avançado\n",
        "Caderno de **Exercícios**<br>\n",
        "Professor [Mariane Neiva](www.linkedin.com/in/mariane-neiva)\n",
        "\n",
        "---"
      ]
    },
    {
      "cell_type": "markdown",
      "metadata": {
        "id": "d9jDtUbDOE1-"
      },
      "source": [
        "# **Tópicos**\n",
        "\n",
        "<ol type=\"1\">\n",
        "  <li>Subqueries;</li>\n",
        "  <li>Agregações por particionamento</li>\n",
        "  <li>Visões;</li>\n",
        "</ol>"
      ]
    },
    {
      "cell_type": "markdown",
      "metadata": {
        "id": "SmoHgt-lwkpD"
      },
      "source": [
        "---"
      ]
    },
    {
      "cell_type": "markdown",
      "metadata": {
        "id": "DIlQOznoTPQF"
      },
      "source": [
        "# **Instruções**\n",
        "\n",
        "Neste exercícios, vamos configurar e testar os serviços AWS S3 e AWS Athena da plataforma de computação em nuvem da AWS para utilizarmos durante todo o curso:\n",
        "\n",
        "Na etapa de **configuração**, você deve seguir o passo a passo de configuração do ambiente, não há entregáveis.\n",
        "\n",
        "Na etapa de **atividades**, você deve:\n",
        "\n",
        " 1. Eexecutar a consulta SQL fornecida;\n",
        " 2. Exportar os resultados em um arquivo csv para sua máquina;\n",
        " 3. Renomear o arquivo como **query_\\<numero-da-query>.csv**;\n",
        " 4. Enviar para a avaliação do tutor na plataforma da EBAC.\n",
        "\n",
        "> **Atenção**: Substitua o **\\<numero-da-query>** numero da consulta, exemplo: **query1.csv**.\n",
        "\n"
      ]
    },
    {
      "cell_type": "markdown",
      "metadata": {
        "id": "vvlBORqbTPQp"
      },
      "source": [
        "---"
      ]
    },
    {
      "cell_type": "markdown",
      "metadata": {
        "id": "GABI6OW8OfQ2"
      },
      "source": [
        "# **Configuração**"
      ]
    },
    {
      "cell_type": "markdown",
      "metadata": {
        "id": "jdIScjXVWoHU"
      },
      "source": [
        "## 1\\. Configurando o AWS S3"
      ]
    },
    {
      "cell_type": "markdown",
      "metadata": {
        "id": "OCY24c61WoHW"
      },
      "source": [
        "1. Acesse AWS S3;\n",
        "2. Crie um novo bucket:\n",
        " *   **modulo7-<seu-nome\\>-ebac**\n",
        "3. Crie duas pastas dentro do bucket **modulo7-<seu-nome\\>-ebac**:\n",
        " *   **cliente**\n",
        " * **transacoes**\n",
        "4. Na pasta modulo7-<seu-nome\\>-ebac/cliente, carregue o arquivo **cliente.csv**\n",
        "5. Na pasta modulo7-<seu-nome\\>-ebac/transacoes, carregue o arquivo **transacoes.csv**\n",
        "\n",
        "> **Atenção**: Caso o bucket já exista, sinta-se a vontade para escolher o nome que desejar.\n",
        "\n",
        " > **Atenção**: Os arquivo **cliente.csv** e **transacoes.csv** está na plataforma da EBAC.\n",
        "\n",
        " >**Observação:** não é a mesma tabela de clientes do modulo 6. As lojas foram alteradas para melhorar os exemplos."
      ]
    },
    {
      "cell_type": "markdown",
      "metadata": {
        "id": "k4HJwfbQcEQw"
      },
      "source": [
        "# Atividades"
      ]
    },
    {
      "cell_type": "markdown",
      "metadata": {
        "id": "Lyqe05QXcERP"
      },
      "source": [
        "# **1. Criação da tabela**"
      ]
    },
    {
      "cell_type": "markdown",
      "metadata": {
        "id": "Rq7i2Tb4cERP"
      },
      "source": [
        "No console do AWS Athena, execute a seguinte query:\n",
        "\n",
        "```sql\n",
        "CREATE EXTERNAL TABLE IF NOT EXISTS default.cliente (\n",
        "  `id_cliente` int,\n",
        "  `nome` string,\n",
        "  `valor_compra` double,\n",
        "  `loja_cadastro` string\n",
        ")\n",
        "ROW FORMAT SERDE 'org.apache.hadoop.hive.serde2.lazy.LazySimpleSerDe'\n",
        "WITH SERDEPROPERTIES (\n",
        "  'serialization.format' = ',',\n",
        "  'field.delim' = ','\n",
        ") LOCATION 's3://modulo7-mari-ebac/cliente/'\n",
        "TBLPROPERTIES ('has_encrypted_data'='false');\n",
        "```\n",
        "e\n",
        "\n",
        "```sql\n",
        "CREATE EXTERNAL TABLE IF NOT EXISTS default.transacoes (\n",
        "  `id_cliente` int,\n",
        "  `id_transacao` bigint,\n",
        "  `valor_compra` double,\n",
        "  `id_loja` string\n",
        ")\n",
        "ROW FORMAT SERDE 'org.apache.hadoop.hive.serde2.lazy.LazySimpleSerDe'\n",
        "WITH SERDEPROPERTIES (\n",
        "  'serialization.format' = ',',\n",
        "  'field.delim' = ','\n",
        ") LOCATION 's3://modulo7-mari-ebac/transacoes/'\n",
        "TBLPROPERTIES ('has_encrypted_data'='false');\n",
        "```\n",
        "\n",
        "Para cada uma das queries, no painel de resultados, você deve encontrar o seguinte resultado.\n",
        "\n",
        "```\n",
        "Query successful.\n",
        "```\n",
        "\n",
        "\n",
        "> **Atenção**: No campo LOCATION, substitua pelo caminho da sua pasta, exemplo: **modulo7-mari-ebac**.\n",
        "\n",
        "> **Atenção**: Nesta atividade, você não precisa exportar os resultados."
      ]
    },
    {
      "cell_type": "markdown",
      "metadata": {
        "id": "0cbohKQegVk7"
      },
      "source": [
        "# **2. Subqueries**"
      ]
    },
    {
      "cell_type": "markdown",
      "metadata": {
        "id": "0Airo3E0h5Ik"
      },
      "source": [
        "## 2.1. Query 1"
      ]
    },
    {
      "cell_type": "markdown",
      "metadata": {
        "id": "2m92meC8gVk9"
      },
      "source": [
        "No console do AWS Athena, execute a seguinte query:\n",
        "\n",
        "```sql\n",
        "SELECT id_loja, id_cliente, id_transacao from transacoes\n",
        "WHERE id_loja IN\n",
        "(SELECT cliente.loja_cadastro from cliente where cliente.valor_compra > 160 )\n",
        "```\n",
        "\n",
        "No painel de resultados você deve encontrar o seguinte resultado.\n",
        "\n",
        "|id_loja|id_cliente|id_transacao\n",
        "|-|-|-|\n",
        "|magalu|1|768805383|\n",
        "|postoshell|3|818770008|\n",
        "|magalu|1|76856563|\n",
        "\n",
        "> **Atenção**: Extraia os resultados para o arquivo CSV através do botão de download e renomei-o com o número da query. Voce deve envia-lo para os tutores de EBAC."
      ]
    },
    {
      "cell_type": "markdown",
      "metadata": {
        "id": "SHjoPsx2JFw8"
      },
      "source": [
        "# **3.Particionamento**\n",
        "\n",
        "**Configuração**\n",
        "\n",
        "\n"
      ]
    },
    {
      "cell_type": "markdown",
      "metadata": {
        "id": "GGd-CyaaylQK"
      },
      "source": [
        "1. Acesse AWS S3;\n",
        "2. Crie um novo bucket:\n",
        " *   **transacoes-partition-<seu-nome\\>**\n",
        "3. Crie duas pastas dentro do bucket **transacoes-partition-\\<seu-nome\\>**:\n",
        "* id_loja=magalu\n",
        "* id_loja=giraffas\n",
        "* id_loja=postoshell\n",
        "* id_loja=subway\n",
        "* id_loja=seveneleven\n",
        "* id_loja=extra\n",
        "* id_loja=shopee\n",
        "\n",
        "3. Em cada uma das pastas, carregue o arquivo CSV relativo à loja.\n",
        "\n",
        "> **Atenção**: Caso o bucket já exista, sinta-se a vontade para escolher o nome que desejar.\n",
        "\n",
        " > **Atenção**: Os arquivo  **.csv** estão na plataforma da EBAC.\n",
        "\n",
        ""
      ]
    },
    {
      "cell_type": "markdown",
      "metadata": {
        "id": "LtLFY61Gz3rU"
      },
      "source": [
        "Crie a tabela particionada:\n",
        "\n",
        "```sql\n",
        "CREATE EXTERNAL TABLE transacoes_part(\n",
        "  id_cliente BIGINT,\n",
        "  id_transacoes BIGINT,\n",
        "  valor DOUBLE)\n",
        "  PARTITIONED BY (id_loja string)\n",
        "ROW FORMAT SERDE 'org.apache.hadoop.hive.serde2.lazy.LazySimpleSerDe'\n",
        "WITH SERDEPROPERTIES (\n",
        "  'serialization.format' = ',',\n",
        "  'field.delim' = ','\n",
        ")\n",
        "LOCATION 's3://transacoes-partition-mari/'\n",
        "```\n",
        "\n",
        "E carregue as partições:\n",
        "\n",
        "```sql\n",
        "MSCK REPAIR TABLE transacoes_part;\n",
        "```\n",
        "\n",
        "No console do AWS Athena, execute a seguinte query:\n",
        "\n",
        "```sql\n",
        "select count(*) from transacoes\n",
        "```\n",
        "\n",
        "e\n",
        "```sql\n",
        "select count(*) from transacoes_part\n",
        "```\n",
        "\n",
        "> Não há necessidade de entrega nessa fase de configuração"
      ]
    },
    {
      "cell_type": "markdown",
      "metadata": {
        "id": "cNocCBKQJVea"
      },
      "source": [
        "## 3.1 Query 2\n",
        "\n",
        "Execute a seguinte query:\n",
        "\n",
        "```sql\n",
        "SELECT * FROM transacoes_part where id_loja = 'magalu'\n",
        "```\n",
        "\n",
        "> **Atenção**: Extraia os resultados para o arquivo CSV através do botão de download e renomei-o com o número da query. Voce deve envia-lo para os tutores de EBAC.\n",
        "\n",
        "Não há necessidade de entrega, mas compare o tamanho do data scanned da seleção acima em relação com:\n",
        "\n",
        "```sql\n",
        "SELECT * FROM transacoes where id_loja = 'magalu'\n",
        "```"
      ]
    },
    {
      "cell_type": "markdown",
      "metadata": {
        "id": "H4hIfbRVJaUk"
      },
      "source": [
        "# **4. Visões**\n"
      ]
    },
    {
      "cell_type": "markdown",
      "metadata": {
        "id": "B7ogcizXJffQ"
      },
      "source": [
        "## 4.1 Query 3\n",
        "\n",
        "No console do AWS Athena, execute a seguinte query:\n",
        "\n",
        "```sql\n",
        "CREATE VIEW  transacoesv100 AS\n",
        "SELECT id_cliente , valor_compra, id_loja AS nome_loja FROM transacoes where valor_compra > 100\n",
        "```\n",
        "\n",
        "Extrai os resultados da query a seguir para envio da atividade **query3**:\n",
        "\n",
        "```sql\n",
        "select * from transacoesv100\n",
        "```\n",
        "\n"
      ]
    },
    {
      "cell_type": "markdown",
      "metadata": {
        "id": "TdPhadO3JizI"
      },
      "source": [
        "## 4.2 Query 4\n",
        "\n",
        "\n",
        "No console do AWS Athena, execute a seguinte query:\n",
        "\n",
        "```sql\n",
        "CREATE VIEW clientevalor  AS\n",
        "SELECT id_cliente, valor_compra FROM transacoes ORDER BY valor_compra DESC LIMIT 2;\n",
        "```\n",
        "\n",
        "Extrai os resultados da query a seguir para envio da atividade **query4**:\n",
        "\n",
        "```sql\n",
        "select * from clientevalor\n",
        "```\n",
        "\n"
      ]
    },
    {
      "cell_type": "markdown",
      "metadata": {
        "id": "gIxDNP5w1evy"
      },
      "source": [
        "# 5. Bônus\n",
        "\n",
        "Nessa atividade não há necessidade de entrega, no entanto, sugerimos que testem os seguintes comandos de visão:\n",
        "\n",
        "```sql\n",
        "describe clientevalor\n",
        "```\n",
        "![1.png](data:image/png;base64,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)\n",
        "\n",
        "```sql\n",
        "show columns in clientevalor\n",
        "```\n",
        "![2.png](data:image/png;base64,iVBORw0KGgoAAAANSUhEUgAAALIAAAAqCAYAAAAXvwFGAAAAAXNSR0IArs4c6QAAAARnQU1BAACxjwv8YQUAAAAJcEhZcwAADsMAAA7DAcdvqGQAAAXvSURBVHhe7ZvPSxtbFMfPe/+DeSgkbXdd1C78QUGk60iUSjavvJ1daA0FW6hQF4UHb5GCxSiW2HbR5aNdqJE0JGsRoZi40C6yqxiIJP4R0zlz78zcSWYmM8nEJNfzgcHcO86dO+eeOffM3O/8oagAQQw4f/K/BDHQkCMTUkCOTEgBOTIhBeTIhBSQIxNSEJwjlz7AXyMfoMiLPaEf+tDXXMPe0l14lrnmZXm4wYiMRnwOe1e82A6ao97Vtq4PxtUBPFs6gDov3loGxA7BOfL4C6hVX8AEL3YF7RwXcJ6O8ooGbqIPA80QxD9dwJf5IV6WhwAcmU1XLFI2T+vFlL5vEpazvLIlp7DJIy9umyVe7YjXPlgjeTGlzhCZxijP2xpfgVx2BUZtj7Nvr69xmc3as4No84YxEs7FNnMmdrJdPfNcLR+Y4+53FsAl6mAoKanhbeWEl5Da/pIS2ijxUl3ZXVxSdqu86Aj+3x0lVeRFG7Ddhf06L4nY98H8X2vbJxt3lNBiRqlhoZpRFsRjsazvE3BrbxCws107dsBjzOtGu+tjK/5m/6efz812uC8knNfafmu6mCNfw1EeYOfpGC975OoYvsMW/DPOyx2BfShALjHJo0DzrLC2+ARC+GM4DA+1Gjdatzeo+LPDKRytAyTnePQciUOS73Gmte1i6b+NtHDi1QW89OEDN/iw1yuisFO60HJrffNjoGaCbm9QeQ05wQa16keID2N9GCJzBVgeZ04eK2/BOyMn757tuujIQxC5X4DvP1geVM+89Ra9MCKoOdn/LfNiLwzB9AzA8tdTXvZJtgKX/Cejw/YGlSY7jMH06ntI2z0f8Bn1XHfWTzzSd9t2PMXoAMyJ1BxL3Cz5Fqtb2C95zJFVhONws+ZRZr25z6UPPBcz9znlYc35tZY78uMaczu79voZZ9u1a4cGmzva222feR673N0PpEcmggXfWBxOQe2V/myEb6A+Q6Skpx7doSeOjK9gYurDQjOYd9F74MEGHdf68LeW7f5zBEVkQgpuwVsL4jZAjkxIATkyIQXkyIQUkCMTUtAzR0a1E1tz96JuI4IFlWudacPxFar9uLkrEbtFzxw5NP9RW8LMrfIKQhKY5rlW3YM1XnMTdOzIWmRNievn+EKc34n4dQGPurh51e6K0dqiS8VVo9SB/zveoo8Vj7HXPWvRJsWOMTSyvB/Yt021zrgu49p5lGvS9aq0aYegMbXAjcozB/13w9chTDMs9L1iXpfXa3LSI3dKx44cml+EtfVj0zlKx5BcnWKrc8NP4IsuHqmewGz+bevpTHW60fyMITo5n8nDqHijrOcB/uX70j/thSsiOBhzICi19JVDdLw4QFav3wOYM6fbZDkM59nXkEvkIVJSo4sgnEkmKpDQjjmBnXJcmGILsPxrymjvYeIbs0s7dggYdMIY7Bl92FFtwnC3gxtJdSjeGdfa+pqwD+l7J0YfZvOTgaWVAaQWTAl1pEezw/ew9lhcZ9fvQG/a3XrlJ8RmprhiSr1RHs1ArFwxo/LqorFmj+lJq8926j9Uaws6VxPVMVVHnTaWTvE6CnBZZSVDnyucT8fUzaKiKwpnFf1migr66zF4adw0/u0QLG7acHc7uGHYyNMx3dVyB5IjTzzdgrNDjJqncFQ2RfHFVFyNznZRQB4ufxX4L2fkt8M1XJajEBnhRUf6XY88PAWzZTW9UNOKMyGaIrF7Yfaj9M3THRgKP4Bc/tiIwMWvK5C7H7a06QetPX2Kt4ACcHMmwRQkve5lMETwS4kozD5q/TGnXzsEi5s2vIUd9JRKrX+TcLhpUYOcfQARV3Vb3+uRGUzv2qA3FnXFGxmLHlnUuLLNYZ/4vVhxW/gG0DtWLa6gtXXQPRv6XON8pka3Uddr6nhRa+ugt3axw43hpg13sANijsW2sitohq3jJ15Pe9rwTiH1m0/wgeUN/CflJ/WDTDCpRU+xvjqybJbXgoTMUEQmpECCiEwQ5MiEJJAjE1JAjkxIATkyIQXkyIQUkCMTEgDwG/Wor99UCxnEAAAAAElFTkSuQmCC)\n",
        "\n",
        "```sql\n",
        "show views\n",
        "```\n",
        "![3.png](data:image/png;base64,iVBORw0KGgoAAAANSUhEUgAAAIMAAAA0CAYAAACpUourAAAAAXNSR0IArs4c6QAAAARnQU1BAACxjwv8YQUAAAAJcEhZcwAADsMAAA7DAcdvqGQAAAVVSURBVHhe7ZrPSxxJFMff7v+QkRGc7N5jDv4gIJKzMjskeEnIzRw0ykIMKOgtsAcPkYzBoFkPOS6bgzpiBj2LCMFpD1kP3lZGmOD4R8zWq3r9uqqne5wxY6vZ94HGrqqu6tfT36pX9ns/1RQgCIqf6a8giBiEABGDwIgYBEbEIDAiBoERMQiMiEFgRAwCI2IQGBGDwIgYBEbEIDAJiuEQFjt/gUWPisKNo31i8N5Dh3rZeDwvnFPlVYHCeg8lKl0ZiT7T9dM+MfT+DmeVE/hneYgqwvTAlGqf6qXibeDCZ/qxuIQYzmF93MyWZmdMtfCCr69zE9bs6xjfhCpVY5/FwiY899vyh7q+lMfyCMzDAmRDbYhpNwfb9g3HcVcSvM7Y4j6PbUNDbLvtsbE+v2mNmcAK1i4w06kVDt7erY1uVKlUz9nGeGw79s2XqIBUCrXRsULtjIrYN/XWC87TS7UDXfJq+fR4ba2iCwos+20B7r2rtbWx4H7uvaP7I1H219Wh3Xb/0lIt5T8Hnlu2Ro13U2lxZTiEvTfTMPn4DpW/j+qXbShuvYRummHdkzvUYsguP4E+fdYFmZw+acA57G3vQHGyn2ZkP0xsUZOi7+E0zO/SCuLtw/zMAI3triZhGyKpnELR6g+9AzC3dQplKsLMGIykzWnq8Qf42Kbf66pJ8L+JaLLLB9ov8/Gqh1ouwxCseNZY6uA9Su8TWDne10t2afcIVp7SfdSynlUCL9L1/5f9QRQtigFn6AIst2lnnXowDDD56ZI+9QjK3+hUcwcG1XATfwf7BxdsP4I9T61ux8MwSDNXk1PPpU8O4a9mVobOLiUgIyykWliFeR7jFkPuogXQ395VftEcvj80Pj6ox8P2126b61PtNr+P62vR/9t7hlA/2mf4+4RgvNC+QPv68J7H7rNUW7Pu2+iZ3LbQ/oHtuV1IqrzAXPueQbg5iBgERsQgMCIGgRExCIyIQWBEDAJzCTEklEtwi+EorRVNNdgR0hewbn9BtaOgdf2SQVaGNoNBr1n4IzLGUcr3w+dhisV4w/C5lyYVhthzwPGRIoxcSzJNS2JomEvQKI5vq14dnNOAP0Js7D+UZxCTs1CXL+Dcy24zaXd+m5NXYfdx8hmibdAz35m9wWrZ9+okJkoZivhi5FP9jnvKDozeAkdoz6F8rISxvd9cXkU70R+lWyImF6DpOL7Vn2IFdgyD+zT7jd++LpxnwLi5DcYGsrVBTkW8DaHfIOI6ZxzEuo9uU+drlGMR5FqYuE9+w7UpKdrrJuLi+DrTyJ9huLJY5N7BMwozZ361llYdGRyJzDyyM6c6cgtUG55hNqdQ3pqGQU6564HBmR0oV0yf2JyKWBuwv5nVSGl3AeYeNhd6Lyvbu/8dg7M/H4WinLi6rELGO4GpB1SVMAnsGdRS+/qlekl+3sI6zFFLQ9KP4CNe/xpgFl+U/0KUsGYnIchbUC/5e4nNqYizQdH39B181ckyGBIPBB1LugvuK9FlUQh6fOMOEJwE8zkUwgczmbQLSZ5LiiGcS3Ax97vMKqFj//qsSfQLUQKyM4ngHmT0CqSEthqsDKmue1CMzI8weRj+TEZBLb8ZgkxnkzkVUTakB+A3TJbx9uHr8ACkqDoeXE0gWEG8TzBBqxXakM35ORbmmbJNjdlmyF20hBPLv9C/KrCNrh9V/tDZM4T8dVwugb3/CPIjlN/fcO/r9rP8Ou1P/LZg/1B/L7+tkQ2IaW+QZ0GHu1fx65vJz0gWyWcQGPnOIDAiBoERMQiMiEFgRAwCI2IQGBGDwIgYBEbEIDAiBoERMQiMiEEgAP4DTAfCqJBSMq4AAAAASUVORK5CYII=)\n",
        "\n",
        "```sql\n",
        "show create view clientevalor\n",
        "```\n",
        "![4.png](data:image/png;base64,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)\n",
        "\n",
        "```sql\n",
        "drop view clientevalor\n",
        "```\n",
        "Deleta `clientevalor`"
      ]
    },
    {
      "cell_type": "markdown",
      "source": [
        "# 6. Resultado\n"
      ],
      "metadata": {
        "id": "4FYZhS_JogkB"
      }
    },
    {
      "cell_type": "code",
      "source": [
        "!pip install wget"
      ],
      "metadata": {
        "colab": {
          "base_uri": "https://localhost:8080/"
        },
        "id": "zEOPIy8epp7A",
        "outputId": "8a5ef1ab-2bc1-4509-d76a-63fcfcd17664"
      },
      "execution_count": 1,
      "outputs": [
        {
          "output_type": "stream",
          "name": "stdout",
          "text": [
            "Collecting wget\n",
            "  Downloading wget-3.2.zip (10 kB)\n",
            "  Preparing metadata (setup.py) ... \u001b[?25l\u001b[?25hdone\n",
            "Building wheels for collected packages: wget\n",
            "  Building wheel for wget (setup.py) ... \u001b[?25l\u001b[?25hdone\n",
            "  Created wheel for wget: filename=wget-3.2-py3-none-any.whl size=9656 sha256=87f41b658bcf9c08278ca3e312c82c888322dced78d4702ba31aba18511800cb\n",
            "  Stored in directory: /root/.cache/pip/wheels/8b/f1/7f/5c94f0a7a505ca1c81cd1d9208ae2064675d97582078e6c769\n",
            "Successfully built wget\n",
            "Installing collected packages: wget\n",
            "Successfully installed wget-3.2\n"
          ]
        }
      ]
    },
    {
      "cell_type": "code",
      "source": [
        "import wget"
      ],
      "metadata": {
        "id": "rf1Yr0VmprK_"
      },
      "execution_count": 2,
      "outputs": []
    },
    {
      "cell_type": "code",
      "source": [
        "link = 'https://download1586.mediafire.com/dve427z87hyg66CHLizfjYiZrdjaUS5RzLwDd8bHc5Y8LuTVioTiCIjSvAjIQAi3bcYVLymv1Uw1WG6t4ogcOD5tOs1Psy24Dmdz1-S5kUaWD7if3fGUvQaww2cRii5uKuUb_FE6GvqSSkEW4Y-IN8alQ8pzTEbI00slqo_ZFpua5WWX/h4blbwrdqd7xkp1/Downloads.rar'"
      ],
      "metadata": {
        "id": "uLb0NeU4p59g"
      },
      "execution_count": 3,
      "outputs": []
    },
    {
      "cell_type": "code",
      "source": [
        "output_filename = \"csv-m35.rar\"\n",
        "wget.download(link, out=output_filename)"
      ],
      "metadata": {
        "colab": {
          "base_uri": "https://localhost:8080/",
          "height": 35
        },
        "id": "kNGHFkYkpsUo",
        "outputId": "7131c70f-79f9-4478-c9b3-71e1b65fade0"
      },
      "execution_count": 4,
      "outputs": [
        {
          "output_type": "execute_result",
          "data": {
            "text/plain": [
              "'csv-m35.rar'"
            ],
            "application/vnd.google.colaboratory.intrinsic+json": {
              "type": "string"
            }
          },
          "metadata": {},
          "execution_count": 4
        }
      ]
    }
  ]
}