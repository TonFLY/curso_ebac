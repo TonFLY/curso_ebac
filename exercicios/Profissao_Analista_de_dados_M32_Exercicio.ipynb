{
  "nbformat": 4,
  "nbformat_minor": 0,
  "metadata": {
    "colab": {
      "provenance": []
    },
    "kernelspec": {
      "name": "python3",
      "display_name": "Python 3"
    }
  },
  "cells": [
    {
      "cell_type": "markdown",
      "metadata": {
        "id": "KJqp9AANOCtf"
      },
      "source": [
        "<img src=\"https://raw.githubusercontent.com/andre-marcos-perez/ebac-course-utils/main/media/logo/newebac_logo_black_half.png\" alt=\"ebac-logo\">\n",
        "\n",
        "---\n",
        "\n",
        "# **Módulo** | SQL: Filtrando & Seleção Condicional\n",
        "Caderno de **Exercícios**<br>\n",
        "Professor [Mariane Neiva](https://www.linkedin.com/in/mariane-neiva/)\n",
        "\n",
        "---"
      ]
    },
    {
      "cell_type": "markdown",
      "metadata": {
        "id": "d9jDtUbDOE1-"
      },
      "source": [
        "# **Tópicos**\n",
        "\n",
        "<ol type=\"1\">\n",
        "  <li>Filtros and, or, in e between;</li>\n",
        "  <li>Filtros like e wildcards;</li>\n",
        "  <li>Seleção condicional;</li>\n",
        "</ol>"
      ]
    },
    {
      "cell_type": "markdown",
      "metadata": {
        "id": "SmoHgt-lwkpD"
      },
      "source": [
        "---"
      ]
    },
    {
      "cell_type": "markdown",
      "metadata": {
        "id": "DIlQOznoTPQF"
      },
      "source": [
        "# **Instruções**\n",
        "\n",
        "Nessa **atividades**, você deve:\n",
        "\n",
        " 1. Executar a consulta SQL fornecida;\n",
        " 2. Exportar os resultados em um arquivo csv para sua máquina;\n",
        " 3. Renomear o arquivo como **query\\<numero-da-query\\>.csv**;\n",
        " 4. Enviar para a avaliação do tutor na plataforma da EBAC.\n",
        "\n",
        "> **Atenção**: Substitua o **\\<numero-da-query>** numero da consulta, exemplo: **query1.csv**.\n",
        "\n",
        "**Importante**: Para consultar mais detalhes da AWS Athena [clique aqui](https://docs.aws.amazon.com/athena/latest/ug/what-is.html)"
      ]
    },
    {
      "cell_type": "markdown",
      "metadata": {
        "id": "vvlBORqbTPQp"
      },
      "source": [
        "---"
      ]
    },
    {
      "cell_type": "markdown",
      "metadata": {
        "id": "k4HJwfbQcEQw"
      },
      "source": [
        "# Atividades"
      ]
    },
    {
      "cell_type": "markdown",
      "metadata": {
        "id": "ym_TsGX5_6Nd"
      },
      "source": [
        "#1. Prática 1\n",
        "\n",
        "> **Não há necessidade de entrega**.\n",
        "Para esses exercícios, utilizaremos os mesmo dados do módulo 3.\n",
        "\n",
        "Caso você não tenha as informações de **transacoes.csv**, elas estarão disponíveis no material de aula.\n",
        "\n",
        "Siga os seguintes passos para criação da tabela (desconsidere caso você já tenha os dados no seu S3):\n",
        "\n",
        "* Crie uma pasta bucket-transacoes no seu S3 e carregue o arquivo **transacoes.csv**\n",
        "* Volta para o AWS Athena e execute o seguinte comando:\n",
        "\n",
        "```sql\n",
        "CREATE EXTERNAL TABLE transacoes(\n",
        "id_cliente BIGINT,\n",
        "id_transacao BIGINT,\n",
        "valor FLOAT,\n",
        "id_loja STRING)\n",
        "ROW FORMAT SERDE 'org.apache.hadoop.hive.serde2.OpenCSVSerde'\n",
        "WITH SERDEPROPERTIES ('separatorChar' = ',', 'quoteChar' = '\"', 'escapeChar' = '\\\\')\n",
        "STORED AS TEXTFILE\n",
        "LOCATION 's3://bucket-transacoes/'\n",
        "```\n",
        "\n",
        "Utilizaremos a tabela para os exercícios seguintes."
      ]
    },
    {
      "cell_type": "markdown",
      "metadata": {
        "id": "qDxe2l4cMcVa"
      },
      "source": [
        "# **2. Selecionando dados**\n",
        "\n",
        "Vamos testar os comandos and, or, in e between?! Execute as queries e salve o resultado para enviar os exercícios.   \n",
        "\n",
        "##2.1 Query 1\n",
        "\n",
        "```sql\n",
        "SELECT *\n",
        "FROM transacoes\n",
        "WHERE valor > 30 AND id_loja = 'magalu';\n",
        "```\n",
        "\n",
        "> **Importante**: entregue os resultados da query com o nome *query1.csv*\n",
        "\n",
        "##2.2 Query 2\n",
        "\n",
        "```sql\n",
        "SELECT *\n",
        "FROM transacoes\n",
        "WHERE valor > 30 OR id_loja = 'magalu';\n",
        "```\n",
        "\n",
        "> **Importante**: entregue os resultados da query com o nome *query2.csv*\n",
        "\n",
        "##2.3 Query 3\n",
        "\n",
        "```sql\n",
        "SELECT *\n",
        "FROM transacoes\n",
        "WHERE id_loja IN ('magalu','subway') AND valor > 10;\n",
        "```\n",
        "\n",
        "> **Importante**: entregue os resultados da query com o nome *query3.csv*\n",
        "\n",
        "##2.4 Query 4\n",
        "\n",
        "```sql\n",
        "SELECT *\n",
        "FROM transacoes\n",
        "WHERE valor BETWEEN 60.0 AND 1000.0;\n",
        "```\n",
        "\n",
        "> **Importante**: entregue os resultados da query com o nome *query4.csv*"
      ]
    },
    {
      "cell_type": "markdown",
      "metadata": {
        "id": "QJJ92QL9C6fL"
      },
      "source": [
        "# **3. Filtro like e wildcards**\n",
        "\n",
        "Agora é hora de trabalhar com padrões! Execute as queries e salve o resultado para enviar os exercícios.   \n",
        "\n",
        "##3.1 Query 5\n",
        "\n",
        "```sql\n",
        "SELECT *\n",
        "FROM transacoes\n",
        "WHERE id_loja LIKE 'mag%'\n",
        "```\n",
        "\n",
        "> **Importante**: entregue os resultados da query com o nome *query5.csv*\n",
        "\n",
        "##3.2 Query 6\n",
        "\n",
        "```sql\n",
        "SELECT *\n",
        "FROM transacoes\n",
        "WHERE id_loja LIKE '%sh%'\n",
        "```\n",
        "\n",
        "> **Importante**: entregue os resultados da query com o nome *query6.csv*\n",
        "\n"
      ]
    },
    {
      "cell_type": "markdown",
      "metadata": {
        "id": "yprhfZqVDZXL"
      },
      "source": [
        "# **4. Seleção condicional**\n",
        "\n",
        "Chegou a hora de testar a combinação do CASE com o SELECT! Execute a  query e salve o resultado para enviar o  exercício.   \n",
        "\n",
        "##4.1 Query 7\n",
        "\n",
        "```sql\n",
        "SELECT id_cliente, id_loja, valor,\n",
        "CASE\n",
        "    WHEN valor > 1000 THEN 'Compra com alto valor'\n",
        "    WHEN valor < 1000 THEN 'Compra com baixo valor'\n",
        "END\n",
        "AS classeValor,\n",
        "CASE\n",
        "    WHEN id_loja IN ('giraffas','subway')  THEN 'alimentacao'\n",
        "    WHEN id_loja IN ('magalu','extra') THEN 'variedade'\n",
        "    WHEN id_loja IN ('postoshell','seveneleven') THEN '24horas'\n",
        "    ELSE 'outros'\n",
        "END\n",
        "AS tipo_compra\n",
        "FROM transacoes;\n",
        "```\n",
        "\n",
        "> **Importante**: entregue os resultados da query com o nome *query7.csv*\n",
        "\n"
      ]
    },
    {
      "cell_type": "markdown",
      "source": [
        "# **5. Resultado do exercicio em csv**"
      ],
      "metadata": {
        "id": "0mqrsPRz8I54"
      }
    },
    {
      "cell_type": "code",
      "source": [
        "!pip install wget"
      ],
      "metadata": {
        "colab": {
          "base_uri": "https://localhost:8080/"
        },
        "id": "JimzsK3K8Nsw",
        "outputId": "3385390a-a5d5-4c52-ebf5-33e7b661efa5"
      },
      "execution_count": 3,
      "outputs": [
        {
          "output_type": "stream",
          "name": "stdout",
          "text": [
            "Collecting wget\n",
            "  Downloading wget-3.2.zip (10 kB)\n",
            "  Preparing metadata (setup.py) ... \u001b[?25l\u001b[?25hdone\n",
            "Building wheels for collected packages: wget\n",
            "  Building wheel for wget (setup.py) ... \u001b[?25l\u001b[?25hdone\n",
            "  Created wheel for wget: filename=wget-3.2-py3-none-any.whl size=9656 sha256=21ffd5fb33d0cd2222ca964ed34ba80eb0261b88128f8608150cb1f6cbf4cec5\n",
            "  Stored in directory: /root/.cache/pip/wheels/8b/f1/7f/5c94f0a7a505ca1c81cd1d9208ae2064675d97582078e6c769\n",
            "Successfully built wget\n",
            "Installing collected packages: wget\n",
            "Successfully installed wget-3.2\n"
          ]
        }
      ]
    },
    {
      "cell_type": "code",
      "source": [
        "import wget"
      ],
      "metadata": {
        "id": "9FB6c_oP8p1Q"
      },
      "execution_count": 4,
      "outputs": []
    },
    {
      "cell_type": "code",
      "source": [
        "link = 'https://download938.mediafire.com/z7ut1k4jb2tg2RQgc6P4vBeXiS7qhR_2-HoNtdHSxvNNfClTTwbJmGnic1vvohCWGs3WnY24xdzOaU34amEqp82em-y_ATSLWdHsbgMsDKocvQz36_91iDnLQg5fN9GWsTJvcmiORfYkbrqMuGccI7x_ObOnqix3Xa13vPfRQWkhK3WB/yp1aulqqhx0lsv3/csv-m32.rar'"
      ],
      "metadata": {
        "id": "7ooJADGC8jvo"
      },
      "execution_count": 2,
      "outputs": []
    },
    {
      "cell_type": "code",
      "source": [
        "output_filename = \"csv-m32.rar\"\n",
        "wget.download(link, out=output_filename)"
      ],
      "metadata": {
        "colab": {
          "base_uri": "https://localhost:8080/",
          "height": 35
        },
        "id": "bW6fsMxa8qu3",
        "outputId": "4e668b23-bd63-481e-9b79-6efe65fd10ff"
      },
      "execution_count": 5,
      "outputs": [
        {
          "output_type": "execute_result",
          "data": {
            "text/plain": [
              "'csv-m32.rar'"
            ],
            "application/vnd.google.colaboratory.intrinsic+json": {
              "type": "string"
            }
          },
          "metadata": {},
          "execution_count": 5
        }
      ]
    }
  ]
}